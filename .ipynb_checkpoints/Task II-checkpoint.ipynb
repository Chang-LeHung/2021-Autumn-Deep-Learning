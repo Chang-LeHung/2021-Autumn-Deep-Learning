{
 "cells": [
  {
   "cell_type": "code",
   "execution_count": 1,
   "metadata": {},
   "outputs": [],
   "source": [
    "import torch\n",
    "from torch import nn, optim\n",
    "from torch.utils.data import DataLoader, Dataset\n",
    "from torchvision import datasets, transforms\n",
    "from torchvision.utils import make_grid\n",
    "from matplotlib import pyplot as plt\n",
    "import seaborn as sns\n",
    "from IPython import display\n",
    "import numpy as np\n",
    "from PIL import Image\n",
    "import torchmetrics"
   ]
  },
  {
   "cell_type": "markdown",
   "metadata": {},
   "source": [
    "# Pytorhc MNIST 分类"
   ]
  },
  {
   "cell_type": "code",
   "execution_count": 2,
   "metadata": {},
   "outputs": [
    {
     "name": "stderr",
     "output_type": "stream",
     "text": [
      "/tmp/ipykernel_26959/2575314055.py:2: DeprecationWarning: `set_matplotlib_formats` is deprecated since IPython 7.23, directly use `matplotlib_inline.backend_inline.set_matplotlib_formats()`\n",
      "  display.set_matplotlib_formats(\"svg\")\n"
     ]
    }
   ],
   "source": [
    "sns.set()\n",
    "display.set_matplotlib_formats(\"svg\")"
   ]
  },
  {
   "cell_type": "code",
   "execution_count": 3,
   "metadata": {},
   "outputs": [],
   "source": [
    "trans = transforms.Compose([\n",
    "    transforms.ToTensor(),\n",
    "    transforms.Normalize((0.5, ), (0.5, ))\n",
    "])"
   ]
  },
  {
   "cell_type": "code",
   "execution_count": 4,
   "metadata": {
    "scrolled": true
   },
   "outputs": [],
   "source": [
    "MNIST_TRAINSET = datasets.MNIST(\"./dataset/MNIST\", train=True, transform=trans, \n",
    "                       download=True)"
   ]
  },
  {
   "cell_type": "code",
   "execution_count": 5,
   "metadata": {
    "scrolled": true
   },
   "outputs": [
    {
     "data": {
      "text/plain": [
       "torch.Size([60000, 28, 28])"
      ]
     },
     "execution_count": 5,
     "metadata": {},
     "output_type": "execute_result"
    }
   ],
   "source": [
    "MNIST_TRAINSET.data.shape"
   ]
  },
  {
   "cell_type": "code",
   "execution_count": 6,
   "metadata": {},
   "outputs": [],
   "source": [
    "MNIST_TESTSET = datasets.MNIST(\"./dataset/MNIST\", train=False, transform=trans, \n",
    "                       download=True)"
   ]
  },
  {
   "cell_type": "code",
   "execution_count": 7,
   "metadata": {},
   "outputs": [
    {
     "data": {
      "text/plain": [
       "torch.Size([10000, 28, 28])"
      ]
     },
     "execution_count": 7,
     "metadata": {},
     "output_type": "execute_result"
    }
   ],
   "source": [
    "MNIST_TESTSET.data.shape"
   ]
  },
  {
   "cell_type": "code",
   "execution_count": 8,
   "metadata": {},
   "outputs": [
    {
     "data": {
      "text/plain": [
       "(-0.5, 27.5, 27.5, -0.5)"
      ]
     },
     "execution_count": 8,
     "metadata": {},
     "output_type": "execute_result"
    },
    {
     "data": {
      "image/svg+xml": [
       "<?xml version=\"1.0\" encoding=\"utf-8\" standalone=\"no\"?>\n",
       "<!DOCTYPE svg PUBLIC \"-//W3C//DTD SVG 1.1//EN\"\n",
       "  \"http://www.w3.org/Graphics/SVG/1.1/DTD/svg11.dtd\">\n",
       "<svg height=\"231.84pt\" version=\"1.1\" viewBox=\"0 0 231.84 231.84\" width=\"231.84pt\" xmlns=\"http://www.w3.org/2000/svg\" xmlns:xlink=\"http://www.w3.org/1999/xlink\">\n",
       " <metadata>\n",
       "  <rdf:RDF xmlns:cc=\"http://creativecommons.org/ns#\" xmlns:dc=\"http://purl.org/dc/elements/1.1/\" xmlns:rdf=\"http://www.w3.org/1999/02/22-rdf-syntax-ns#\">\n",
       "   <cc:Work>\n",
       "    <dc:type rdf:resource=\"http://purl.org/dc/dcmitype/StillImage\"/>\n",
       "    <dc:date>2021-11-17T12:31:16.933348</dc:date>\n",
       "    <dc:format>image/svg+xml</dc:format>\n",
       "    <dc:creator>\n",
       "     <cc:Agent>\n",
       "      <dc:title>Matplotlib v3.4.3, https://matplotlib.org/</dc:title>\n",
       "     </cc:Agent>\n",
       "    </dc:creator>\n",
       "   </cc:Work>\n",
       "  </rdf:RDF>\n",
       " </metadata>\n",
       " <defs>\n",
       "  <style type=\"text/css\">*{stroke-linecap:butt;stroke-linejoin:round;}</style>\n",
       " </defs>\n",
       " <g id=\"figure_1\">\n",
       "  <g id=\"patch_1\">\n",
       "   <path d=\"M 0 231.84 \n",
       "L 231.84 231.84 \n",
       "L 231.84 0 \n",
       "L 0 0 \n",
       "z\n",
       "\" style=\"fill:#ffffff;\"/>\n",
       "  </g>\n",
       "  <g id=\"axes_1\">\n",
       "   <g clip-path=\"url(#p6ed0ac09c3)\">\n",
       "    <image height=\"218\" id=\"image9e4d0e96ef\" transform=\"scale(1 -1)translate(0 -218)\" width=\"218\" x=\"7.2\" xlink:href=\"data:image/png;base64,\n",
       "iVBORw0KGgoAAAANSUhEUgAAANoAAADaCAYAAADAHVzbAAAFmklEQVR4nO3dX6jfcxzH8d855zdtmf+NbCluphUSHbTFkhZmJSJJJn8SpbSipdbIBdJQuCOUPzdr8reI0QizZRNCNrHonNG2JqeOnbOz43rxfbOz7XXO75zH4/blM9+bp0/59vuuq7t98mgLOKy6x/sBYCoQGgQIDQKEBgFCgwChQYDQIKA93g/QqT44fn65z//64cZt+J3nyrNz736z3PsHdpU7E48bDQKEBgFCgwChQYDQIEBoECA0CPAebRxMu+yWct/y0onlvuj2+j3bZ79/f8DPxOHlRoMAoUGA0CBAaBAgNAgQGgT43/tj9Oz0feV+wa6+xq37+Nnl2XbvknI/oWdtuTPxuNEgQGgQIDQIEBoECA0ChAYBQoMA79HG6JW+9eV+72VDjdu8DU8c6sdhgnOjQYDQIEBoECA0CBAaBAgNAoQGAd6jHSY3Du5s3NZ//WF5tn3mxeV+x56Z5f52V1e5j46OljuHnhsNAoQGAUKDAKFBgNAgQGgQIDQI6Opun+ylSth5s+aW+0dfPnNQf/6K3pXlvqpv3UH9+Rw4NxoECA0ChAYBQoMAoUGA0CBAaBDgPdo46OnuKffdT19b7tOuvLPc9258q9wvvO3Vxm3zjh/Ls4yNGw0ChAYBQoMAoUGA0CBAaBDgc3PjYGTfSLmfvvy9cv/hlNPKvd27pNzfX/hG43bCmvIoY+RGgwChQYDQIEBoECA0CBAaBAgNAvxMpgMtm3NRuT/0yYpy37d7e+O29PKnyrNr+jeWO//OjQYBQoMAoUGA0CBAaBAgNAgQGgR4jzYJfTrr/HI/58tHG7c9jy0vzx7z+PoxPdNU50aDAKFBgNAgQGgQIDQIEBoECA0CvEebhGYeMaPc+5+6unHrueT68uxNFz1Y7qv7NpT7VOVGgwChQYDQIEBoECA0CBAaBPhrmyahgaHBct/64HeN27wlR5Vnn725fnXw+iPTyn1oZLjcJys3GgQIDQKEBgFCgwChQYDQIEBoEOBnMlPQdbObP0f3wsf3l2e7ph9Z7rf21p+re7lvan6uzo0GAUKDAKFBgNAgQGgQIDQIEBoEeI/Gfjac1FvuZ21aVe4j238s98WLH2/c1v32TXm2k7nRIEBoECA0CBAaBAgNAoQGAUKDAN91ZD/XDG4r92+3fVXu7VPPLveFPbMat3Xlyc7mRoMAoUGA0CBAaBAgNAgQGgQIDQL8Ho0DsnL2xeV+3+cry33v2hcbt7l3vVae7R/YVe4TmRsNAoQGAUKDAKFBgNAgQGgQ4Gcyh8lJM49r3K44el559vXd9WfXrjr2zDE90//xZ2tvuT8/UD/b8v4t5T5t0U2N26rpP5Vnbxj4sNwnMjcaBAgNAoQGAUKDAKFBgNAgQGgQ0NHv0W6bvaBxu/KvnvLsuzPqXwddOthV7hcs6C/3GXff3Li15zU/d6vVaj35Tf3htfYZC8v9YIwODZb7yM/15+Z65pw+5n/3ucftqP+B/5gnMjcaBAgNAoQGAUKDAKFBgNAgQGgQ0NGfmxt4e0Xj1j57UfBJ/mlkx6+N2761q4NPMrEMf/FD47b0g+nl2bf6Nx3qx4lxo0GA0CBAaBAgNAgQGgQIDQKEBgEd/R7tgeKvEFp243B59q/N28t9+I/6v0H3/NL83cZWq9XaMrSzcftix9byLJOPGw0ChAYBQoMAoUGA0CBAaBAgNAjo6Pdo0CncaBAgNAgQGgQIDQKEBgFCgwChQYDQIEBoECA0CBAaBAgNAoQGAUKDAKFBgNAgQGgQIDQIEBoECA0ChAYBQoMAoUGA0CBAaBAgNAgQGgQIDQKEBgFCgwChQYDQIEBoECA0CBAaBAgNAoQGAUKDAKFBgNAgQGgQIDQIEBoECA0ChAYBQoMAoUGA0CBAaBAgNAgQGgQIDQKEBgF/A0tQxTNWebb5AAAAAElFTkSuQmCC\" y=\"-6.64\"/>\n",
       "   </g>\n",
       "  </g>\n",
       " </g>\n",
       " <defs>\n",
       "  <clipPath id=\"p6ed0ac09c3\">\n",
       "   <rect height=\"217.44\" width=\"217.44\" x=\"7.2\" y=\"7.2\"/>\n",
       "  </clipPath>\n",
       " </defs>\n",
       "</svg>\n"
      ],
      "text/plain": [
       "<Figure size 432x288 with 1 Axes>"
      ]
     },
     "metadata": {},
     "output_type": "display_data"
    }
   ],
   "source": [
    "plt.imshow(MNIST_TESTSET.data[0])\n",
    "plt.axis(\"off\")"
   ]
  },
  {
   "cell_type": "code",
   "execution_count": 9,
   "metadata": {
    "scrolled": true
   },
   "outputs": [],
   "source": [
    "temp = make_grid(MNIST_TRAINSET.data[:16].unsqueeze(1), padding=5, \n",
    "                 pad_value=1)"
   ]
  },
  {
   "cell_type": "code",
   "execution_count": 10,
   "metadata": {},
   "outputs": [
    {
     "data": {
      "text/plain": [
       "(-0.5, 268.5, 70.5, -0.5)"
      ]
     },
     "execution_count": 10,
     "metadata": {},
     "output_type": "execute_result"
    },
    {
     "data": {
      "image/svg+xml": [
       "<?xml version=\"1.0\" encoding=\"utf-8\" standalone=\"no\"?>\n",
       "<!DOCTYPE svg PUBLIC \"-//W3C//DTD SVG 1.1//EN\"\n",
       "  \"http://www.w3.org/Graphics/SVG/1.1/DTD/svg11.dtd\">\n",
       "<svg height=\"102.767286pt\" version=\"1.1\" viewBox=\"0 0 349.2 102.767286\" width=\"349.2pt\" xmlns=\"http://www.w3.org/2000/svg\" xmlns:xlink=\"http://www.w3.org/1999/xlink\">\n",
       " <metadata>\n",
       "  <rdf:RDF xmlns:cc=\"http://creativecommons.org/ns#\" xmlns:dc=\"http://purl.org/dc/elements/1.1/\" xmlns:rdf=\"http://www.w3.org/1999/02/22-rdf-syntax-ns#\">\n",
       "   <cc:Work>\n",
       "    <dc:type rdf:resource=\"http://purl.org/dc/dcmitype/StillImage\"/>\n",
       "    <dc:date>2021-11-17T12:31:17.119517</dc:date>\n",
       "    <dc:format>image/svg+xml</dc:format>\n",
       "    <dc:creator>\n",
       "     <cc:Agent>\n",
       "      <dc:title>Matplotlib v3.4.3, https://matplotlib.org/</dc:title>\n",
       "     </cc:Agent>\n",
       "    </dc:creator>\n",
       "   </cc:Work>\n",
       "  </rdf:RDF>\n",
       " </metadata>\n",
       " <defs>\n",
       "  <style type=\"text/css\">*{stroke-linecap:butt;stroke-linejoin:round;}</style>\n",
       " </defs>\n",
       " <g id=\"figure_1\">\n",
       "  <g id=\"patch_1\">\n",
       "   <path d=\"M 0 102.767286 \n",
       "L 349.2 102.767286 \n",
       "L 349.2 0 \n",
       "L 0 0 \n",
       "z\n",
       "\" style=\"fill:#ffffff;\"/>\n",
       "  </g>\n",
       "  <g id=\"axes_1\">\n",
       "   <g clip-path=\"url(#p4566589dab)\">\n",
       "    <image height=\"89\" id=\"image0fe4ca25da\" transform=\"scale(1 -1)translate(0 -89)\" width=\"335\" x=\"7.2\" xlink:href=\"data:image/png;base64,\n",
       "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\" y=\"-6.567286\"/>\n",
       "   </g>\n",
       "  </g>\n",
       " </g>\n",
       " <defs>\n",
       "  <clipPath id=\"p4566589dab\">\n",
       "   <rect height=\"88.367286\" width=\"334.8\" x=\"7.2\" y=\"7.2\"/>\n",
       "  </clipPath>\n",
       " </defs>\n",
       "</svg>\n"
      ],
      "text/plain": [
       "<Figure size 432x288 with 1 Axes>"
      ]
     },
     "metadata": {},
     "output_type": "display_data"
    }
   ],
   "source": [
    "plt.imshow(temp.permute(1, 2, 0))\n",
    "plt.axis(\"off\")"
   ]
  },
  {
   "cell_type": "markdown",
   "metadata": {},
   "source": [
    "# LeNet架构图"
   ]
  },
  {
   "cell_type": "markdown",
   "metadata": {},
   "source": [
    "![LeNet](./image/lenet.svg)\n",
    "![LeNet](./image/lenet-vert.svg)"
   ]
  },
  {
   "cell_type": "markdown",
   "metadata": {},
   "source": [
    "$$\n",
    "OutputSize: (H/W) = \\frac{(H/W) + 2 * P - K}{S} + 1\n",
    "$$"
   ]
  },
  {
   "cell_type": "code",
   "execution_count": 11,
   "metadata": {},
   "outputs": [],
   "source": [
    "class LeNet(nn.Module):\n",
    "    \n",
    "    def __init__(self):\n",
    "        \n",
    "        super().__init__()\n",
    "        self.conv_part = nn.Sequential(\n",
    "            nn.Conv2d(1, 6, kernel_size=5, padding=2), nn.Sigmoid(),\n",
    "            nn.AvgPool2d(kernel_size=2, stride=2),\n",
    "            nn.Conv2d(6, 16, kernel_size=5), nn.Sigmoid(),\n",
    "            nn.AvgPool2d(2, 2)\n",
    "        )\n",
    "        self.MLP = nn.Sequential(\n",
    "            nn.Linear(16 * 5 * 5, 120), nn.Sigmoid(),\n",
    "            nn.Linear(120, 84), nn.Sigmoid(),\n",
    "            nn.Linear(84, 10),\n",
    "            nn.Softmax(dim=-1)\n",
    "        )\n",
    "    \n",
    "    def forward(self, x):\n",
    "        x = self.conv_part(x)\n",
    "        x = x.reshape(x.shape[0], -1)\n",
    "        return self.MLP(x)\n"
   ]
  },
  {
   "cell_type": "code",
   "execution_count": 12,
   "metadata": {},
   "outputs": [],
   "source": [
    "data_loader = DataLoader(MNIST_TRAINSET, batch_size=128, shuffle=True, \n",
    "                         drop_last=True, num_workers=4)\n",
    "criterion = nn.CrossEntropyLoss()\n",
    "lenet = LeNet().to(\"cuda\")\n",
    "optimizer = optim.Adam(lenet.parameters(), lr=5e-4)"
   ]
  },
  {
   "cell_type": "code",
   "execution_count": 13,
   "metadata": {},
   "outputs": [],
   "source": [
    "Epoch = 25\n",
    "losses = []\n",
    "accs = []\n",
    "metric = torchmetrics.Accuracy()"
   ]
  },
  {
   "cell_type": "code",
   "execution_count": 14,
   "metadata": {
    "scrolled": true
   },
   "outputs": [
    {
     "ename": "RuntimeError",
     "evalue": "Expected all tensors to be on the same device, but found at least two devices, cuda:0 and cpu!",
     "output_type": "error",
     "traceback": [
      "\u001b[0;31m---------------------------------------------------------------------------\u001b[0m",
      "\u001b[0;31mRuntimeError\u001b[0m                              Traceback (most recent call last)",
      "\u001b[0;32m/tmp/ipykernel_26959/3755391723.py\u001b[0m in \u001b[0;36m<module>\u001b[0;34m\u001b[0m\n\u001b[1;32m     10\u001b[0m         \u001b[0mloss\u001b[0m\u001b[0;34m.\u001b[0m\u001b[0mbackward\u001b[0m\u001b[0;34m(\u001b[0m\u001b[0;34m)\u001b[0m\u001b[0;34m\u001b[0m\u001b[0;34m\u001b[0m\u001b[0m\n\u001b[1;32m     11\u001b[0m         \u001b[0moptimizer\u001b[0m\u001b[0;34m.\u001b[0m\u001b[0mstep\u001b[0m\u001b[0;34m(\u001b[0m\u001b[0;34m)\u001b[0m\u001b[0;34m\u001b[0m\u001b[0;34m\u001b[0m\u001b[0m\n\u001b[0;32m---> 12\u001b[0;31m         \u001b[0macc\u001b[0m \u001b[0;34m=\u001b[0m \u001b[0mmetric\u001b[0m\u001b[0;34m(\u001b[0m\u001b[0mout\u001b[0m\u001b[0;34m,\u001b[0m \u001b[0ml\u001b[0m\u001b[0;34m)\u001b[0m\u001b[0;34m\u001b[0m\u001b[0;34m\u001b[0m\u001b[0m\n\u001b[0m\u001b[1;32m     13\u001b[0m         \u001b[0mtemp_loss\u001b[0m\u001b[0;34m.\u001b[0m\u001b[0mappend\u001b[0m\u001b[0;34m(\u001b[0m\u001b[0mloss\u001b[0m\u001b[0;34m.\u001b[0m\u001b[0mitem\u001b[0m\u001b[0;34m(\u001b[0m\u001b[0;34m)\u001b[0m\u001b[0;34m)\u001b[0m\u001b[0;34m\u001b[0m\u001b[0;34m\u001b[0m\u001b[0m\n\u001b[1;32m     14\u001b[0m         \u001b[0mtemp_acc\u001b[0m\u001b[0;34m.\u001b[0m\u001b[0mappend\u001b[0m\u001b[0;34m(\u001b[0m\u001b[0macc\u001b[0m\u001b[0;34m)\u001b[0m\u001b[0;34m\u001b[0m\u001b[0;34m\u001b[0m\u001b[0m\n",
      "\u001b[0;32m/usr/local/lib/python3.9/site-packages/torch/nn/modules/module.py\u001b[0m in \u001b[0;36m_call_impl\u001b[0;34m(self, *input, **kwargs)\u001b[0m\n\u001b[1;32m   1049\u001b[0m         if not (self._backward_hooks or self._forward_hooks or self._forward_pre_hooks or _global_backward_hooks\n\u001b[1;32m   1050\u001b[0m                 or _global_forward_hooks or _global_forward_pre_hooks):\n\u001b[0;32m-> 1051\u001b[0;31m             \u001b[0;32mreturn\u001b[0m \u001b[0mforward_call\u001b[0m\u001b[0;34m(\u001b[0m\u001b[0;34m*\u001b[0m\u001b[0minput\u001b[0m\u001b[0;34m,\u001b[0m \u001b[0;34m**\u001b[0m\u001b[0mkwargs\u001b[0m\u001b[0;34m)\u001b[0m\u001b[0;34m\u001b[0m\u001b[0;34m\u001b[0m\u001b[0m\n\u001b[0m\u001b[1;32m   1052\u001b[0m         \u001b[0;31m# Do not call functions when jit is used\u001b[0m\u001b[0;34m\u001b[0m\u001b[0;34m\u001b[0m\u001b[0;34m\u001b[0m\u001b[0m\n\u001b[1;32m   1053\u001b[0m         \u001b[0mfull_backward_hooks\u001b[0m\u001b[0;34m,\u001b[0m \u001b[0mnon_full_backward_hooks\u001b[0m \u001b[0;34m=\u001b[0m \u001b[0;34m[\u001b[0m\u001b[0;34m]\u001b[0m\u001b[0;34m,\u001b[0m \u001b[0;34m[\u001b[0m\u001b[0;34m]\u001b[0m\u001b[0;34m\u001b[0m\u001b[0;34m\u001b[0m\u001b[0m\n",
      "\u001b[0;32m/usr/local/lib/python3.9/site-packages/torchmetrics/metric.py\u001b[0m in \u001b[0;36mforward\u001b[0;34m(self, *args, **kwargs)\u001b[0m\n\u001b[1;32m    190\u001b[0m \u001b[0;34m\u001b[0m\u001b[0m\n\u001b[1;32m    191\u001b[0m         \u001b[0;32mwith\u001b[0m \u001b[0mtorch\u001b[0m\u001b[0;34m.\u001b[0m\u001b[0mno_grad\u001b[0m\u001b[0;34m(\u001b[0m\u001b[0;34m)\u001b[0m\u001b[0;34m:\u001b[0m\u001b[0;34m\u001b[0m\u001b[0;34m\u001b[0m\u001b[0m\n\u001b[0;32m--> 192\u001b[0;31m             \u001b[0mself\u001b[0m\u001b[0;34m.\u001b[0m\u001b[0mupdate\u001b[0m\u001b[0;34m(\u001b[0m\u001b[0;34m*\u001b[0m\u001b[0margs\u001b[0m\u001b[0;34m,\u001b[0m \u001b[0;34m**\u001b[0m\u001b[0mkwargs\u001b[0m\u001b[0;34m)\u001b[0m\u001b[0;34m\u001b[0m\u001b[0;34m\u001b[0m\u001b[0m\n\u001b[0m\u001b[1;32m    193\u001b[0m \u001b[0;34m\u001b[0m\u001b[0m\n\u001b[1;32m    194\u001b[0m         \u001b[0;32mif\u001b[0m \u001b[0mself\u001b[0m\u001b[0;34m.\u001b[0m\u001b[0mcompute_on_step\u001b[0m\u001b[0;34m:\u001b[0m\u001b[0;34m\u001b[0m\u001b[0;34m\u001b[0m\u001b[0m\n",
      "\u001b[0;32m/usr/local/lib/python3.9/site-packages/torchmetrics/metric.py\u001b[0m in \u001b[0;36mwrapped_func\u001b[0;34m(*args, **kwargs)\u001b[0m\n\u001b[1;32m    248\u001b[0m             \u001b[0mself\u001b[0m\u001b[0;34m.\u001b[0m\u001b[0m_computed\u001b[0m \u001b[0;34m=\u001b[0m \u001b[0;32mNone\u001b[0m\u001b[0;34m\u001b[0m\u001b[0;34m\u001b[0m\u001b[0m\n\u001b[1;32m    249\u001b[0m             \u001b[0mself\u001b[0m\u001b[0;34m.\u001b[0m\u001b[0m_update_called\u001b[0m \u001b[0;34m=\u001b[0m \u001b[0;32mTrue\u001b[0m\u001b[0;34m\u001b[0m\u001b[0;34m\u001b[0m\u001b[0m\n\u001b[0;32m--> 250\u001b[0;31m             \u001b[0;32mreturn\u001b[0m \u001b[0mupdate\u001b[0m\u001b[0;34m(\u001b[0m\u001b[0;34m*\u001b[0m\u001b[0margs\u001b[0m\u001b[0;34m,\u001b[0m \u001b[0;34m**\u001b[0m\u001b[0mkwargs\u001b[0m\u001b[0;34m)\u001b[0m\u001b[0;34m\u001b[0m\u001b[0;34m\u001b[0m\u001b[0m\n\u001b[0m\u001b[1;32m    251\u001b[0m \u001b[0;34m\u001b[0m\u001b[0m\n\u001b[1;32m    252\u001b[0m         \u001b[0;32mreturn\u001b[0m \u001b[0mwrapped_func\u001b[0m\u001b[0;34m\u001b[0m\u001b[0;34m\u001b[0m\u001b[0m\n",
      "\u001b[0;32m/usr/local/lib/python3.9/site-packages/torchmetrics/classification/accuracy.py\u001b[0m in \u001b[0;36mupdate\u001b[0;34m(self, preds, target)\u001b[0m\n\u001b[1;32m    256\u001b[0m             \u001b[0;31m# Update states\u001b[0m\u001b[0;34m\u001b[0m\u001b[0;34m\u001b[0m\u001b[0;34m\u001b[0m\u001b[0m\n\u001b[1;32m    257\u001b[0m             \u001b[0;32mif\u001b[0m \u001b[0mself\u001b[0m\u001b[0;34m.\u001b[0m\u001b[0mreduce\u001b[0m \u001b[0;34m!=\u001b[0m \u001b[0;34m\"samples\"\u001b[0m \u001b[0;32mand\u001b[0m \u001b[0mself\u001b[0m\u001b[0;34m.\u001b[0m\u001b[0mmdmc_reduce\u001b[0m \u001b[0;34m!=\u001b[0m \u001b[0;34m\"samplewise\"\u001b[0m\u001b[0;34m:\u001b[0m\u001b[0;34m\u001b[0m\u001b[0;34m\u001b[0m\u001b[0m\n\u001b[0;32m--> 258\u001b[0;31m                 \u001b[0mself\u001b[0m\u001b[0;34m.\u001b[0m\u001b[0mtp\u001b[0m \u001b[0;34m+=\u001b[0m \u001b[0mtp\u001b[0m\u001b[0;34m\u001b[0m\u001b[0;34m\u001b[0m\u001b[0m\n\u001b[0m\u001b[1;32m    259\u001b[0m                 \u001b[0mself\u001b[0m\u001b[0;34m.\u001b[0m\u001b[0mfp\u001b[0m \u001b[0;34m+=\u001b[0m \u001b[0mfp\u001b[0m\u001b[0;34m\u001b[0m\u001b[0;34m\u001b[0m\u001b[0m\n\u001b[1;32m    260\u001b[0m                 \u001b[0mself\u001b[0m\u001b[0;34m.\u001b[0m\u001b[0mtn\u001b[0m \u001b[0;34m+=\u001b[0m \u001b[0mtn\u001b[0m\u001b[0;34m\u001b[0m\u001b[0;34m\u001b[0m\u001b[0m\n",
      "\u001b[0;31mRuntimeError\u001b[0m: Expected all tensors to be on the same device, but found at least two devices, cuda:0 and cpu!"
     ]
    }
   ],
   "source": [
    "for epoch in range(1, Epoch + 1):\n",
    "    temp_acc = []\n",
    "    temp_loss = []\n",
    "    for i, (d, l) in enumerate(data_loader):\n",
    "        d = d.to(\"cuda\")\n",
    "        l = l.to(\"cuda\")\n",
    "        out = lenet(d)\n",
    "        lenet.zero_grad()\n",
    "        loss = criterion(out, l)\n",
    "        loss.backward()\n",
    "        optimizer.step()\n",
    "        acc = metric(out, l)\n",
    "        temp_loss.append(loss.item())\n",
    "        temp_acc.append(acc)\n",
    "#         if (i + 1) % 10 == 0:\n",
    "#             print(\"Epoch = {} step[{}/{}] Loss = {} Acc = {}\".format(epoch, i + 1, \n",
    "#                                      len(data_loader), loss.item(), acc))\n",
    "    losses.append(np.mean(temp_loss))\n",
    "    accs.append(np.mean(temp_acc))"
   ]
  },
  {
   "cell_type": "code",
   "execution_count": null,
   "metadata": {},
   "outputs": [],
   "source": [
    "ax = sns.lineplot(x=np.arange(len(losses)) + 1, y=losses)\n",
    "ax.set_xlabel(\"Epoch\")\n",
    "ax.set_ylabel(\"Loss\")\n",
    "plt.savefig(fname=\"MNIST Loss.svg\", format=\"svg\")"
   ]
  },
  {
   "cell_type": "code",
   "execution_count": null,
   "metadata": {},
   "outputs": [],
   "source": [
    "ax = sns.lineplot(x=np.arange(len(accs)) + 1, y=accs)\n",
    "ax.set_xlabel(\"Epoch\")\n",
    "ax.set_ylabel(\"Accuracy\")\n",
    "plt.savefig(fname=\"MNIST Accuracy.svg\", format=\"svg\")"
   ]
  },
  {
   "cell_type": "code",
   "execution_count": null,
   "metadata": {},
   "outputs": [],
   "source": [
    "lenet.train(False)\n",
    "test_loader = DataLoader(MNIST_TESTSET, batch_size=128, shuffle=True, \n",
    "                         drop_last=True, num_workers=4)\n",
    "\n",
    "test_accs = []\n",
    "\n",
    "with torch.no_grad():\n",
    "    for i, (d, l) in enumerate(data_loader):\n",
    "        d = d.to(\"cuda\")\n",
    "        l = l.to(\"cuda\")\n",
    "        out = lenet(d)\n",
    "        acc = metric(out, l)\n",
    "        test_accs.append(acc)\n",
    "    print(\"Average accuaracy : {}\".format(np.mean(test_accs)))"
   ]
  },
  {
   "cell_type": "markdown",
   "metadata": {},
   "source": [
    "# Pytorch Fashion MNIST 分类"
   ]
  },
  {
   "cell_type": "code",
   "execution_count": null,
   "metadata": {
    "scrolled": true
   },
   "outputs": [],
   "source": [
    "FashionMNIST_TRAINSET = datasets.FashionMNIST(\"./dataset/FashionMNIST\", train=True, \n",
    "                                       transform=trans, download=True)\n",
    "FashionMNIST_TESTSET = datasets.FashionMNIST(\"./dataset/FashionMNIST\", train=False, \n",
    "                                      transform=trans, download=True)"
   ]
  },
  {
   "cell_type": "code",
   "execution_count": null,
   "metadata": {},
   "outputs": [],
   "source": [
    "plt.imshow(FashionMNIST_TRAINSET.data[0])\n",
    "plt.axis(\"off\")"
   ]
  },
  {
   "cell_type": "code",
   "execution_count": null,
   "metadata": {},
   "outputs": [],
   "source": [
    "temp = make_grid(FashionMNIST_TRAINSET.data[:16].unsqueeze(1), padding=5, \n",
    "                 pad_value=1)\n",
    "plt.imshow(temp.permute(1, 2, 0))\n",
    "plt.axis(\"off\")"
   ]
  },
  {
   "cell_type": "code",
   "execution_count": null,
   "metadata": {},
   "outputs": [],
   "source": [
    "FashionMNIST_TESTSET.class_to_idx"
   ]
  },
  {
   "cell_type": "code",
   "execution_count": null,
   "metadata": {},
   "outputs": [],
   "source": [
    "data_loader = DataLoader(FashionMNIST_TRAINSET, batch_size=128, shuffle=True, \n",
    "                         drop_last=True, num_workers=4)\n",
    "criterion = nn.CrossEntropyLoss()\n",
    "lenet = LeNet().to(\"cuda\")\n",
    "optimizer = optim.Adam(lenet.parameters(), lr=5e-4)"
   ]
  },
  {
   "cell_type": "code",
   "execution_count": null,
   "metadata": {},
   "outputs": [],
   "source": [
    "Epoch = 25\n",
    "losses = []\n",
    "accs = []\n",
    "metric = torchmetrics.Accuracy()"
   ]
  },
  {
   "cell_type": "code",
   "execution_count": null,
   "metadata": {
    "scrolled": true
   },
   "outputs": [],
   "source": [
    "for epoch in range(1, Epoch + 1):\n",
    "    temp_acc = []\n",
    "    temp_loss = []\n",
    "    for i, (d, l) in enumerate(data_loader):\n",
    "        d = d.to(\"cuda\")\n",
    "        l = l.to(\"cuda\")\n",
    "        out = lenet(d)\n",
    "        lenet.zero_grad()\n",
    "        loss = criterion(out, l)\n",
    "        loss.backward()\n",
    "        optimizer.step()\n",
    "        acc = metric(out, l)\n",
    "        temp_loss.append(loss.item())\n",
    "        temp_acc.append(acc)\n",
    "#         if (i + 1) % 10 == 0:\n",
    "#             print(\"Epoch = {} step[{}/{}] Loss = {} Acc = {}\".format(epoch, i + 1, \n",
    "#                                      len(data_loader), loss.item(), acc))\n",
    "    losses.append(np.mean(temp_loss))\n",
    "    accs.append(np.mean(temp_acc))"
   ]
  },
  {
   "cell_type": "code",
   "execution_count": null,
   "metadata": {},
   "outputs": [],
   "source": [
    "ax = sns.lineplot(x=np.arange(len(losses)) + 1, y=losses)\n",
    "ax.set_xlabel(\"Epoch\")\n",
    "ax.set_ylabel(\"Loss\")\n",
    "ax.set_title(\"FashionMNIST Loss Curve\")\n",
    "plt.savefig(fname=\"FashionMNIST Loss.svg\", format=\"svg\")"
   ]
  },
  {
   "cell_type": "code",
   "execution_count": null,
   "metadata": {},
   "outputs": [],
   "source": [
    "ax = sns.lineplot(x=np.arange(len(accs)) + 1, y=accs)\n",
    "ax.set_xlabel(\"Epoch\")\n",
    "ax.set_ylabel(\"Accuracy\")\n",
    "ax.set_title(\"FashionMNIST Accuracy Curve\")\n",
    "plt.savefig(fname=\"FashionMNIST Accuracy.svg\", format=\"svg\")"
   ]
  },
  {
   "cell_type": "code",
   "execution_count": null,
   "metadata": {},
   "outputs": [],
   "source": [
    "lenet.train(False)\n",
    "test_loader = DataLoader(FashionMNIST_TESTSET, batch_size=128, shuffle=True, \n",
    "                         drop_last=True, num_workers=4)\n",
    "\n",
    "test_accs = []\n",
    "\n",
    "with torch.no_grad():\n",
    "    for i, (d, l) in enumerate(data_loader):\n",
    "        d = d.to(\"cuda\")\n",
    "        l = l.to(\"cuda\")\n",
    "        out = lenet(d)\n",
    "        acc = metric(out, l)\n",
    "        test_accs.append(acc)\n",
    "    print(\"Average accuaracy : {}\".format(np.mean(test_accs)))"
   ]
  },
  {
   "cell_type": "code",
   "execution_count": null,
   "metadata": {},
   "outputs": [],
   "source": [
    "from torchsummary import summary"
   ]
  },
  {
   "cell_type": "code",
   "execution_count": null,
   "metadata": {},
   "outputs": [],
   "source": [
    "s = summary(lenet)"
   ]
  },
  {
   "cell_type": "code",
   "execution_count": null,
   "metadata": {},
   "outputs": [],
   "source": []
  }
 ],
 "metadata": {
  "kernelspec": {
   "display_name": "Python 3 (ipykernel)",
   "language": "python",
   "name": "python3"
  },
  "language_info": {
   "codemirror_mode": {
    "name": "ipython",
    "version": 3
   },
   "file_extension": ".py",
   "mimetype": "text/x-python",
   "name": "python",
   "nbconvert_exporter": "python",
   "pygments_lexer": "ipython3",
   "version": "3.9.1"
  },
  "latex_envs": {
   "LaTeX_envs_menu_present": true,
   "autoclose": false,
   "autocomplete": true,
   "bibliofile": "biblio.bib",
   "cite_by": "apalike",
   "current_citInitial": 1,
   "eqLabelWithNumbers": true,
   "eqNumInitial": 1,
   "hotkeys": {
    "equation": "Ctrl-E",
    "itemize": "Ctrl-I"
   },
   "labels_anchors": false,
   "latex_user_defs": false,
   "report_style_numbering": false,
   "user_envs_cfg": false
  },
  "toc": {
   "base_numbering": 1,
   "nav_menu": {},
   "number_sections": true,
   "sideBar": true,
   "skip_h1_title": false,
   "title_cell": "Table of Contents",
   "title_sidebar": "Contents",
   "toc_cell": false,
   "toc_position": {},
   "toc_section_display": true,
   "toc_window_display": false
  },
  "varInspector": {
   "cols": {
    "lenName": 16,
    "lenType": 16,
    "lenVar": 40
   },
   "kernels_config": {
    "python": {
     "delete_cmd_postfix": "",
     "delete_cmd_prefix": "del ",
     "library": "var_list.py",
     "varRefreshCmd": "print(var_dic_list())"
    },
    "r": {
     "delete_cmd_postfix": ") ",
     "delete_cmd_prefix": "rm(",
     "library": "var_list.r",
     "varRefreshCmd": "cat(var_dic_list()) "
    }
   },
   "types_to_exclude": [
    "module",
    "function",
    "builtin_function_or_method",
    "instance",
    "_Feature"
   ],
   "window_display": false
  }
 },
 "nbformat": 4,
 "nbformat_minor": 4
}
